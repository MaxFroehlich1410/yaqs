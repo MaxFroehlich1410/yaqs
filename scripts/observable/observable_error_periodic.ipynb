{
 "cells": [
  {
   "cell_type": "code",
   "execution_count": 1,
   "metadata": {},
   "outputs": [],
   "source": [
    "from helper import generate_periodic_ising_observable_data, plot_error_vs_depth"
   ]
  },
  {
   "cell_type": "markdown",
   "metadata": {},
   "source": [
    "Define parameters"
   ]
  },
  {
   "cell_type": "code",
   "execution_count": 2,
   "metadata": {},
   "outputs": [],
   "source": [
    "J = 1\n",
    "g = 0.5\n",
    "dt = 0.1\n",
    "num_qubits = 16\n",
    "pad = 2\n",
    "\n",
    "# thresholds = [0]\n",
    "max_bonds = [8, 16, 32]\n",
    "thresholds = [0]\n",
    "# max_bonds = [64]\n",
    "timesteps_list = [1, 5, *range(10, 110, 10)]"
   ]
  },
  {
   "cell_type": "code",
   "execution_count": 3,
   "metadata": {},
   "outputs": [
    {
     "name": "stdout",
     "output_type": "stream",
     "text": [
      "Max Bond 8\n",
      "Threshold 0\n",
      "TDVP Max Bond 8\n",
      "TEBD Max Bond 4\n",
      "TDVP Max Bond 8\n",
      "TEBD Max Bond 8\n",
      "TDVP Max Bond 8\n",
      "TEBD Max Bond 8\n",
      "TDVP Max Bond 8\n",
      "TEBD Max Bond 8\n",
      "TDVP Max Bond 8\n",
      "TEBD Max Bond 8\n",
      "TDVP Max Bond 8\n",
      "TEBD Max Bond 8\n",
      "TDVP Max Bond 8\n",
      "TEBD Max Bond 8\n",
      "TDVP Max Bond 8\n",
      "TEBD Max Bond 8\n",
      "TDVP Max Bond 8\n",
      "TEBD Max Bond 8\n",
      "TDVP Max Bond 8\n",
      "TEBD Max Bond 8\n",
      "TDVP Max Bond 8\n",
      "TEBD Max Bond 8\n",
      "TDVP Max Bond 8\n",
      "TEBD Max Bond 8\n",
      "Max Bond 16\n",
      "Threshold 0\n",
      "TDVP Max Bond 16\n",
      "TEBD Max Bond 4\n",
      "TDVP Max Bond 16\n",
      "TEBD Max Bond 15\n",
      "TDVP Max Bond 16\n",
      "TEBD Max Bond 16\n",
      "TDVP Max Bond 16\n",
      "TEBD Max Bond 16\n",
      "TDVP Max Bond 16\n",
      "TEBD Max Bond 16\n",
      "TDVP Max Bond 16\n",
      "TEBD Max Bond 16\n",
      "TDVP Max Bond 16\n",
      "TEBD Max Bond 16\n",
      "TDVP Max Bond 16\n",
      "TEBD Max Bond 16\n",
      "TDVP Max Bond 16\n",
      "TEBD Max Bond 16\n",
      "TDVP Max Bond 16\n",
      "TEBD Max Bond 16\n",
      "TDVP Max Bond 16\n",
      "TEBD Max Bond 16\n",
      "TDVP Max Bond 16\n",
      "TEBD Max Bond 16\n",
      "Max Bond 32\n",
      "Threshold 0\n",
      "TDVP Max Bond 16\n",
      "TEBD Max Bond 4\n",
      "TDVP Max Bond 32\n",
      "TEBD Max Bond 15\n",
      "TDVP Max Bond 32\n",
      "TEBD Max Bond 32\n",
      "TDVP Max Bond 32\n",
      "TEBD Max Bond 32\n",
      "TDVP Max Bond 32\n",
      "TEBD Max Bond 32\n",
      "TDVP Max Bond 32\n",
      "TEBD Max Bond 32\n",
      "TDVP Max Bond 32\n",
      "TEBD Max Bond 32\n",
      "TDVP Max Bond 32\n",
      "TEBD Max Bond 32\n",
      "TDVP Max Bond 32\n",
      "TEBD Max Bond 32\n",
      "TDVP Max Bond 32\n",
      "TEBD Max Bond 32\n",
      "TDVP Max Bond 32\n",
      "TEBD Max Bond 32\n",
      "TDVP Max Bond 32\n",
      "TEBD Max Bond 32\n"
     ]
    }
   ],
   "source": [
    "results = generate_periodic_ising_observable_data(num_qubits, J, g, dt, pad, thresholds, max_bonds, timesteps_list)"
   ]
  },
  {
   "cell_type": "code",
   "execution_count": null,
   "metadata": {},
   "outputs": [
    {
     "ename": "TypeError",
     "evalue": "plot_error_vs_depth() takes 2 positional arguments but 3 were given",
     "output_type": "error",
     "traceback": [
      "\u001b[31m---------------------------------------------------------------------------\u001b[39m",
      "\u001b[31mTypeError\u001b[39m                                 Traceback (most recent call last)",
      "\u001b[36mCell\u001b[39m\u001b[36m \u001b[39m\u001b[32mIn[4]\u001b[39m\u001b[32m, line 1\u001b[39m\n\u001b[32m----> \u001b[39m\u001b[32m1\u001b[39m \u001b[43mplot_error_vs_depth\u001b[49m\u001b[43m(\u001b[49m\u001b[43mresults\u001b[49m\u001b[43m,\u001b[49m\u001b[43m \u001b[49m\u001b[43mthresholds\u001b[49m\u001b[43m,\u001b[49m\u001b[43m \u001b[49m\u001b[43mmax_bonds\u001b[49m\u001b[43m)\u001b[49m\n",
      "\u001b[31mTypeError\u001b[39m: plot_error_vs_depth() takes 2 positional arguments but 3 were given"
     ]
    }
   ],
   "source": [
    "plot_error_vs_depth(results, max_bonds)"
   ]
  },
  {
   "cell_type": "code",
   "execution_count": null,
   "metadata": {},
   "outputs": [],
   "source": []
  },
  {
   "cell_type": "code",
   "execution_count": null,
   "metadata": {},
   "outputs": [],
   "source": []
  }
 ],
 "metadata": {
  "kernelspec": {
   "display_name": "env",
   "language": "python",
   "name": "python3"
  },
  "language_info": {
   "codemirror_mode": {
    "name": "ipython",
    "version": 3
   },
   "file_extension": ".py",
   "mimetype": "text/x-python",
   "name": "python",
   "nbconvert_exporter": "python",
   "pygments_lexer": "ipython3",
   "version": "3.13.0"
  }
 },
 "nbformat": 4,
 "nbformat_minor": 2
}
