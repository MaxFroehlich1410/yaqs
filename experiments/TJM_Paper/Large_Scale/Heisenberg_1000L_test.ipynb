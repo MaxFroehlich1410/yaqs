{
 "cells": [
  {
   "cell_type": "markdown",
   "id": "236cecfa",
   "metadata": {},
   "source": [
    "# Run 1000 sites noisy Heisenberg model with different noise levels"
   ]
  },
  {
   "cell_type": "code",
   "execution_count": 1,
   "id": "2e4ae349",
   "metadata": {},
   "outputs": [],
   "source": [
    "from __future__ import annotations\n",
    "\n",
    "import pickle\n",
    "\n",
    "from mqt.yaqs import simulator\n",
    "from mqt.yaqs.core.data_structures.networks import MPO, MPS\n",
    "from mqt.yaqs.core.data_structures.noise_model import NoiseModel\n",
    "from mqt.yaqs.core.data_structures.simulation_parameters import Observable, PhysicsSimParams\n",
    "from mqt.yaqs.core.libraries.gate_library import Z"
   ]
  },
  {
   "cell_type": "markdown",
   "id": "542a8a9f",
   "metadata": {},
   "source": [
    "# Initialize parameters\n"
   ]
  },
  {
   "cell_type": "code",
   "execution_count": null,
   "id": "e49e3f77",
   "metadata": {},
   "outputs": [],
   "source": [
    "# Define the system Hamiltonian\n",
    "L = 1000\n",
    "J = 1\n",
    "g = 0.5\n",
    "H_0 = MPO()\n",
    "# H_0.init_Ising(L, d, J, g)\n",
    "H_0.init_heisenberg(L, J, J, J, g)\n",
    "\n",
    "# Define the initial state\n",
    "state = MPS(L, state=\"wall\")\n",
    "\n",
    "# Define the simulation parameters\n",
    "T = 10\n",
    "dt = 0.1\n",
    "sample_timesteps = True\n",
    "N = 100\n",
    "max_bond_dim = 8\n",
    "threshold = 0\n",
    "order = 2\n",
    "measurements = [Observable(Z(), site) for site in range(L)]"
   ]
  },
  {
   "cell_type": "markdown",
   "id": "2a0a082f",
   "metadata": {},
   "source": [
    "# Generate 1000 sites data of noisy and noiseless Heisenberg"
   ]
  },
  {
   "cell_type": "code",
   "execution_count": 3,
   "id": "5606ca04",
   "metadata": {},
   "outputs": [
    {
     "name": "stderr",
     "output_type": "stream",
     "text": [
      "Running trajectories: 100%|███████████████████| 100/100 [00:42<00:00,  2.33it/s]\n"
     ]
    }
   ],
   "source": [
    "# Define the noise parameters\n",
    "gammas = [0.1, 0]\n",
    "for gamma in gammas:\n",
    "    noise_model = NoiseModel([\"relaxation\", \"excitation\"], [gamma, gamma])\n",
    "    sim_params = PhysicsSimParams(\n",
    "        measurements, T, dt, N, max_bond_dim, threshold, order, sample_timesteps=sample_timesteps\n",
    "    )\n",
    "\n",
    "    # TJM Example #################\n",
    "    simulator.run(state, H_0, sim_params, noise_model)\n",
    "\n",
    "    filename = \"TJM_1000L_Exact.pickle\" if gamma == 0 else \"TJM_1000L_Gamma01.pickle\"\n",
    "    with open(filename, \"wb\") as f:\n",
    "        pickle.dump(\n",
    "            {\n",
    "                \"sim_params\": sim_params,\n",
    "            },\n",
    "            f,\n",
    "        )"
   ]
  },
  {
   "cell_type": "markdown",
   "id": "10963e77",
   "metadata": {},
   "source": [
    "# Plot Data"
   ]
  },
  {
   "cell_type": "code",
   "execution_count": null,
   "id": "00c805f6",
   "metadata": {},
   "outputs": [],
   "source": [
    "from plotter import plot_1000L_test\n",
    "\n",
    "plot_1000L_test()"
   ]
  }
 ],
 "metadata": {
  "kernelspec": {
   "display_name": "venv",
   "language": "python",
   "name": "python3"
  },
  "language_info": {
   "codemirror_mode": {
    "name": "ipython",
    "version": 3
   },
   "file_extension": ".py",
   "mimetype": "text/x-python",
   "name": "python",
   "nbconvert_exporter": "python",
   "pygments_lexer": "ipython3",
   "version": "3.13.2"
  }
 },
 "nbformat": 4,
 "nbformat_minor": 5
}
