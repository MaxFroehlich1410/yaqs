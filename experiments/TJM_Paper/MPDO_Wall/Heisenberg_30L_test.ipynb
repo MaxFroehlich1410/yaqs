{
 "cells": [
  {
   "cell_type": "markdown",
   "id": "236cecfa",
   "metadata": {},
   "source": [
    "# Run 30 sites noisy Heisenberg model to compare with MPDO"
   ]
  },
  {
   "cell_type": "code",
   "execution_count": 1,
   "id": "2e4ae349",
   "metadata": {},
   "outputs": [],
   "source": [
    "import pickle\n",
    "\n",
    "from mqt.yaqs.core.data_structures.networks import MPO, MPS\n",
    "from mqt.yaqs.core.data_structures.noise_model import NoiseModel\n",
    "from mqt.yaqs.core.libraries.gate_library import Z\n",
    "from mqt.yaqs.core.data_structures.simulation_parameters import Observable, PhysicsSimParams\n",
    "from mqt.yaqs import simulator"
   ]
  },
  {
   "cell_type": "markdown",
   "id": "542a8a9f",
   "metadata": {},
   "source": [
    "# Initialize parameters\n"
   ]
  },
  {
   "cell_type": "code",
   "execution_count": null,
   "id": "e49e3f77",
   "metadata": {},
   "outputs": [],
   "source": [
    "# Define the system Hamiltonian\n",
    "L = 30\n",
    "J = 1\n",
    "g = 0.5\n",
    "H_0 = MPO()\n",
    "# H_0.init_Ising(L, d, J, g)\n",
    "H_0.init_heisenberg(L, J, J, J, g)\n",
    "\n",
    "# Define the initial state\n",
    "state = MPS(L, state='wall')\n",
    "\n",
    "# Define the simulation parameters\n",
    "T = 10\n",
    "dt = 0.1\n",
    "sample_timesteps = True\n",
    "N = 100\n",
    "threshold = 0\n",
    "order = 2"
   ]
  },
  {
   "cell_type": "markdown",
   "id": "2a0a082f",
   "metadata": {},
   "source": [
    "# Generate 1000 sites data of noisy and noiseless Heisenberg"
   ]
  },
  {
   "cell_type": "code",
   "execution_count": null,
   "id": "f222306d",
   "metadata": {},
   "outputs": [
    {
     "name": "stderr",
     "output_type": "stream",
     "text": [
      "Running trajectories:  44%|████████▊           | 44/100 [03:24<05:50,  6.27s/it]"
     ]
    }
   ],
   "source": [
    "# Define the noise model\n",
    "gamma_relaxation = 0\n",
    "gamma_dephasing = 0\n",
    "noise_model = NoiseModel(['relaxation', 'excitation'], [gamma_relaxation, gamma_dephasing])\n",
    "max_bond_dim = 32\n",
    "\n",
    "measurements = [Observable(Z(), site) for site in range(L)]\n",
    "sim_params = PhysicsSimParams(measurements, T, dt, N, max_bond_dim, threshold, order, sample_timesteps = True)\n",
    "simulator.run(state, H_0, sim_params, noise_model)\n",
    "\n",
    "filename = f\"30L_NoNoise.pickle\"\n",
    "with open(filename, 'wb') as f:\n",
    "    pickle.dump({\n",
    "        'sim_params': sim_params,\n",
    "    }, f)\n",
    "\n",
    "# Define the noise model\n",
    "gamma_relaxation = 0.1\n",
    "gamma_dephasing = 0.1\n",
    "noise_model = NoiseModel(['relaxation', 'excitation'], [gamma_relaxation, gamma_dephasing])\n",
    "max_bond_dim = 8\n",
    "\n",
    "measurements = [Observable(Z(), site) for site in range(L)]\n",
    "sim_params = PhysicsSimParams(measurements, T, dt, N, max_bond_dim, threshold, order, sample_timesteps = True)\n",
    "simulator.run(state, H_0, sim_params, noise_model)\n",
    "\n",
    "filename = f\"30L_Noise.pickle\"\n",
    "with open(filename, 'wb') as f:\n",
    "    pickle.dump({\n",
    "        'sim_params': sim_params,\n",
    "    }, f)"
   ]
  },
  {
   "cell_type": "markdown",
   "id": "bdebfdac",
   "metadata": {},
   "source": [
    "# Generate MPDO reference data.\n",
    "\n",
    "NOTE: This requires a local installation of the package as it is not made easily available. (https://github.com/qiskit-community/lindbladmpo)"
   ]
  },
  {
   "cell_type": "code",
   "execution_count": null,
   "id": "b9d2934d",
   "metadata": {},
   "outputs": [],
   "source": [
    "sys.path.append('/Users/user/lindbladmpo')\n",
    "from lindbladmpo.LindbladMPOSolver import LindbladMPOSolver\n",
    "\n",
    "\n",
    "# Parameters\n",
    "N = 30  # number of sites\n",
    "J = 1    # X and Y coupling strength\n",
    "J_z = 1  # Z coupling strength\n",
    "h = 0.5  # transverse field strength\n",
    "gamma_dephasing = 0.1  # dephasing rate (1/T2star)\n",
    "gamma_relaxation = 0.1  # relaxation rate (1/T1)\n",
    "\n",
    "# Time vector\n",
    "T = 10\n",
    "timesteps = 100\n",
    "t = np.linspace(0, T, timesteps+1)\n",
    "\n",
    "# Define parameters for LindbladMPOSolver\n",
    "parameters = {\n",
    "    \"N\": N,\n",
    "    \"t_final\": T,\n",
    "    \"tau\": T / (timesteps),  # time step\n",
    "    \"J\": -2*J,  # coupling factor of XX and YY\n",
    "    \"J_z\": -2*J_z, \n",
    "    \"h_z\": -2*h,\n",
    "    \"g_0\": gamma_relaxation,  # Strength of deexcitation \n",
    "    \"g_1\": gamma_dephasing,  # Strength of dephasing\n",
    "    \"init_product_state\": [\"+z\"]*15 + [\"-z\"]*15,  # initial state \n",
    "    \"1q_components\": [\"X\", \"Y\", \"Z\"],  # Request x, y, z observables\n",
    "    \"l_x\": N,  # Length of the chain\n",
    "    \"l_y\": 1,  # Width of the chain (1 for a 1D chain)\n",
    "    \"b_periodic_x\": False,  # Open boundary conditions in x-direction\n",
    "    \"b_periodic_y\": False,  # Open boundary conditions in y-direction\n",
    "}\n",
    "\n",
    "# Create a solver instance and run the simulation\n",
    "solver = LindbladMPOSolver(parameters)\n",
    "solver.solve()\n",
    "\n",
    "# Access the LindbladMPO results\n",
    "lindblad_mpo_results = solver.result\n",
    "\n",
    "z_expectation_values_mpo = np.array([[solver.result['obs-1q'][('z', (i,))][1][t] \n",
    "                                for t in range(len(solver.result['obs-1q'][('z', (i,))][0]))] for i in range(N)])\n",
    "\n",
    "\n",
    "pickle_filepath = 'lindblad_mpo_results.pkl'\n",
    "\n",
    "data_to_save = {\n",
    "    'parameters': parameters,  # Simulation parameters\n",
    "    'result': lindblad_mpo_results,  # Lindblad MPO results\n",
    "    # 'x_expectation_values_mpo': x_expectation_values_mpo,\n",
    "    # 'y_expectation_values_mpo': y_expectation_values_mpo,\n",
    "    'z_expectation_values_mpo': z_expectation_values_mpo\n",
    "}\n",
    "\n",
    "with open(pickle_filepath, 'wb') as f:\n",
    "    pickle.dump(data_to_save, f)"
   ]
  },
  {
   "cell_type": "markdown",
   "id": "10963e77",
   "metadata": {},
   "source": [
    "# Plot Data"
   ]
  },
  {
   "cell_type": "code",
   "execution_count": null,
   "id": "00c805f6",
   "metadata": {},
   "outputs": [
    {
     "ename": "FileNotFoundError",
     "evalue": "[Errno 2] No such file or directory: '30L_NoNoise.pickle'",
     "output_type": "error",
     "traceback": [
      "\u001b[31m---------------------------------------------------------------------------\u001b[39m",
      "\u001b[31mFileNotFoundError\u001b[39m                         Traceback (most recent call last)",
      "\u001b[36mCell\u001b[39m\u001b[36m \u001b[39m\u001b[32mIn[1]\u001b[39m\u001b[32m, line 2\u001b[39m\n\u001b[32m      1\u001b[39m \u001b[38;5;28;01mfrom\u001b[39;00m\u001b[38;5;250m \u001b[39m\u001b[34;01mplotter_MPDO\u001b[39;00m\u001b[38;5;250m \u001b[39m\u001b[38;5;28;01mimport\u001b[39;00m plot_MPDO_data\n\u001b[32m----> \u001b[39m\u001b[32m2\u001b[39m \u001b[43mplot_MPDO_data\u001b[49m\u001b[43m(\u001b[49m\u001b[43m)\u001b[49m\n",
      "\u001b[36mFile \u001b[39m\u001b[32m~/Documents/GitHub/mqt-yaqs/experiments/TJM_Paper/MPDO_Wall/plotter_MPDO.py:53\u001b[39m, in \u001b[36mplot_MPDO_data\u001b[39m\u001b[34m()\u001b[39m\n\u001b[32m     46\u001b[39m \u001b[38;5;66;03m# axes[0].set_title('TJM $(\\\\gamma=0)$')\u001b[39;00m\n\u001b[32m     47\u001b[39m \u001b[38;5;66;03m# axes[1].set_title('TJM $(\\\\gamma=0.1)$')\u001b[39;00m\n\u001b[32m     48\u001b[39m \u001b[38;5;66;03m# axes[2].set_title('MPDO $(\\\\gamma=0.1)$')\u001b[39;00m\n\u001b[32m     49\u001b[39m \n\u001b[32m     50\u001b[39m \u001b[38;5;66;03m#########################################################################################\u001b[39;00m\n\u001b[32m     51\u001b[39m x = np.logspace(-\u001b[32m2\u001b[39m, \u001b[32m4\u001b[39m)\n\u001b[32m---> \u001b[39m\u001b[32m53\u001b[39m data = pickle.load(\u001b[38;5;28;43mopen\u001b[39;49m\u001b[43m(\u001b[49m\u001b[33;43m\"\u001b[39;49m\u001b[33;43m30L_NoNoise.pickle\u001b[39;49m\u001b[33;43m\"\u001b[39;49m\u001b[43m,\u001b[49m\u001b[43m \u001b[49m\u001b[33;43m\"\u001b[39;49m\u001b[33;43mrb\u001b[39;49m\u001b[33;43m\"\u001b[39;49m\u001b[43m)\u001b[49m)\n\u001b[32m     54\u001b[39m heatmap = []\n\u001b[32m     55\u001b[39m \u001b[38;5;28;01mfor\u001b[39;00m observable \u001b[38;5;129;01min\u001b[39;00m data[\u001b[33m'\u001b[39m\u001b[33msim_params\u001b[39m\u001b[33m'\u001b[39m].observables:\n",
      "\u001b[31mFileNotFoundError\u001b[39m: [Errno 2] No such file or directory: '30L_NoNoise.pickle'"
     ]
    },
    {
     "data": {
      "image/png": "[encoded data removed]",
      "text/plain": [
       "<Figure size 720x410 with 3 Axes>"
      ]
     },
     "metadata": {},
     "output_type": "display_data"
    }
   ],
   "source": [
    "from plotter_MPDO import plot_MPDO_data\n",
    "plot_MPDO_data()"
   ]
  },
  {
   "cell_type": "code",
   "execution_count": null,
   "id": "46301124",
   "metadata": {},
   "outputs": [],
   "source": []
  }
 ],
 "metadata": {
  "kernelspec": {
   "display_name": "venv",
   "language": "python",
   "name": "python3"
  },
  "language_info": {
   "codemirror_mode": {
    "name": "ipython",
    "version": 3
   },
   "file_extension": ".py",
   "mimetype": "text/x-python",
   "name": "python",
   "nbconvert_exporter": "python",
   "pygments_lexer": "ipython3",
   "version": "3.13.2"
  }
 },
 "nbformat": 4,
 "nbformat_minor": 5
}
