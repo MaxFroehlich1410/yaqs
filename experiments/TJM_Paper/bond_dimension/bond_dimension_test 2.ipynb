{
 "cells": [
  {
   "cell_type": "markdown",
   "id": "16793d01",
   "metadata": {},
   "source": [
    "# Bond dimension test"
   ]
  },
  {
   "cell_type": "code",
   "execution_count": 11,
   "id": "2ac3750a",
   "metadata": {},
   "outputs": [],
   "source": [
    "from __future__ import annotations\n",
    "\n",
    "import pickle\n",
    "\n",
    "import numpy as np\n",
    "import qutip as qt\n",
    "\n",
    "from mqt.yaqs import simulator\n",
    "from mqt.yaqs.core.data_structures.networks import MPO, MPS\n",
    "from mqt.yaqs.core.data_structures.noise_model import NoiseModel\n",
    "from mqt.yaqs.core.data_structures.simulation_parameters import Observable, PhysicsSimParams\n",
    "from mqt.yaqs.core.libraries.gate_library import X"
   ]
  },
  {
   "cell_type": "markdown",
   "id": "e618b165",
   "metadata": {},
   "source": [
    "# Initialize System parameters"
   ]
  },
  {
   "cell_type": "code",
   "execution_count": null,
   "id": "8193a80a",
   "metadata": {},
   "outputs": [],
   "source": [
    "# Define the system Hamiltonian\n",
    "L = 10\n",
    "d = 2\n",
    "J = 1\n",
    "g = 0.5\n",
    "H_0 = MPO()\n",
    "H_0.init_ising(L, J, g)\n",
    "\n",
    "# Define the initial state\n",
    "state = MPS(L, state=\"zeros\")\n",
    "\n",
    "# Define the noise model\n",
    "gamma_relaxation = 0.1\n",
    "gamma_dephasing = 0.1\n",
    "noise_model = NoiseModel(\n",
    "    [[\"relaxation\", \"dephasing\"] for _ in range(L)], [[gamma_relaxation, gamma_dephasing] for _ in range(L)]\n",
    ")\n",
    "\n",
    "# Define the simulation parameters\n",
    "T = 10\n",
    "dt = 0.1\n",
    "sample_timesteps = True\n",
    "N = 10000\n",
    "threshold = 0"
   ]
  },
  {
   "cell_type": "markdown",
   "id": "36c8867f",
   "metadata": {},
   "source": [
    "# Run TJM for all bond dimensions"
   ]
  },
  {
   "cell_type": "code",
   "execution_count": null,
   "id": "dd3b2ab8",
   "metadata": {},
   "outputs": [
    {
     "name": "stderr",
     "output_type": "stream",
     "text": [
      "Running trajectories:  18%|███▌                | 18/100 [00:15<01:10,  1.17it/s]\n"
     ]
    }
   ],
   "source": [
    "max_bond_dim = 4\n",
    "order = 2\n",
    "measurements = [Observable(X(), site) for site in range(L)]\n",
    "sim_params = PhysicsSimParams(measurements, T, dt, N, max_bond_dim, threshold, order, sample_timesteps=sample_timesteps)\n",
    "simulator.run(state, H_0, sim_params, noise_model)\n",
    "filename = \"TJM_Convergence_Bond4.pickle\"\n",
    "with open(filename, \"wb\") as f:\n",
    "    pickle.dump(\n",
    "        {\n",
    "            \"sim_params\": sim_params,\n",
    "        },\n",
    "        f,\n",
    "    )\n",
    "\n",
    "max_bond_dim = 8\n",
    "measurements = [Observable(X(), site) for site in range(L)]\n",
    "sim_params = PhysicsSimParams(measurements, T, dt, N, max_bond_dim, threshold, order, sample_timesteps=sample_timesteps)\n",
    "simulator.run(state, H_0, sim_params, noise_model)\n",
    "filename = \"TJM_Convergence_Bond8.pickle\"\n",
    "with open(filename, \"wb\") as f:\n",
    "    pickle.dump(\n",
    "        {\n",
    "            \"sim_params\": sim_params,\n",
    "        },\n",
    "        f,\n",
    "    )\n",
    "\n",
    "max_bond_dim = 16\n",
    "measurements = [Observable(X(), site) for site in range(L)]\n",
    "sim_params = PhysicsSimParams(measurements, T, dt, N, max_bond_dim, threshold, order, sample_timesteps=sample_timesteps)\n",
    "simulator.run(state, H_0, sim_params, noise_model)\n",
    "filename = \"TJM_Convergence_Bond16.pickle\"\n",
    "with open(filename, \"wb\") as f:\n",
    "    pickle.dump(\n",
    "        {\n",
    "            \"sim_params\": sim_params,\n",
    "        },\n",
    "        f,\n",
    "    )"
   ]
  },
  {
   "cell_type": "markdown",
   "id": "8297b10e",
   "metadata": {},
   "source": [
    "# Generate QuTip reference Data"
   ]
  },
  {
   "cell_type": "code",
   "execution_count": null,
   "id": "61ce2097",
   "metadata": {},
   "outputs": [],
   "source": [
    "# Time vector\n",
    "t = np.arrange(0, sim_params.elapsed_time + sim_params.dt, sim_params.dt)\n",
    "\n",
    "# Define Pauli matrices\n",
    "sx = qt.sigmax()\n",
    "sy = qt.sigmay()\n",
    "sz = qt.sigmaz()\n",
    "\n",
    "# Construct the Ising Hamiltonian\n",
    "H = 0\n",
    "for i in range(L - 1):\n",
    "    H += J * qt.tensor([sz if n == i or n == i + 1 else qt.qeye(2) for n in range(L)])\n",
    "for i in range(L):\n",
    "    H += g * qt.tensor([sx if n == i else qt.qeye(2) for n in range(L)])\n",
    "\n",
    "# Construct collapse operators\n",
    "\n",
    "# Dephasing operators\n",
    "c_ops = [np.sqrt(gamma_dephasing) * qt.tensor([sz if n == i else qt.qeye(2) for n in range(L)]) for i in range(L)]\n",
    "\n",
    "# Relaxation operators\n",
    "c_ops.extend(\n",
    "    np.sqrt(gamma_relaxation) * qt.tensor([qt.destroy(2) if n == i else qt.qeye(2) for n in range(L)]) for i in range(L)\n",
    ")\n",
    "\n",
    "# Initial state\n",
    "psi0 = qt.tensor([qt.basis(2, 0) for _ in range(L)])\n",
    "\n",
    "# Define measurement operators\n",
    "sx_list = [qt.tensor([sx if n == i else qt.qeye(2) for n in range(L)]) for i in range(L)]\n",
    "\n",
    "# Exact Lindblad solution\n",
    "result_lindblad = qt.mesolve(H, psi0, t, c_ops, sx_list, progress_bar=True)\n",
    "filename = \"QuTip_exact_convergence.pickle\"\n",
    "with open(filename, \"wb\") as f:\n",
    "    pickle.dump(\n",
    "        {\n",
    "            \"sim_params\": sim_params,\n",
    "            \"observables\": result_lindblad.expect,\n",
    "        },\n",
    "        f,\n",
    "    )"
   ]
  },
  {
   "cell_type": "markdown",
   "id": "03calf9d9",
   "metadata": {},
   "source": [
    "# Plot Data"
   ]
  },
  {
   "cell_type": "code",
   "execution_count": null,
   "id": "563c3cfc",
   "metadata": {},
   "outputs": [],
   "source": [
    "from plotter_bond_dim import plot_bonddimension_data\n",
    "\n",
    "plot_bonddimension_data()"
   ]
  }
 ],
 "metadata": {
  "kernelspec": {
   "display_name": "venv",
   "language": "python",
   "name": "python3"
  },
  "language_info": {
   "codemirror_mode": {
    "name": "ipython",
    "version": 3
   },
   "file_extension": ".py",
   "mimetype": "text/x-python",
   "name": "python",
   "nbconvert_exporter": "python",
   "pygments_lexer": "ipython3",
   "version": "3.13.2"
  }
 },
 "nbformat": 4,
 "nbformat_minor": 5
}
