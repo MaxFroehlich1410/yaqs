{
 "cells": [
  {
   "cell_type": "code",
   "execution_count": null,
   "id": "8125f9de",
   "metadata": {},
   "outputs": [],
   "source": [
    "from __future__ import annotations\n",
    "\n",
    "import pickle\n",
    "\n",
    "import numpy as np\n",
    "import qutip as qt\n",
    "\n",
    "from mqt.yaqs import simulator\n",
    "from mqt.yaqs.core.data_structures.networks import MPO, MPS\n",
    "from mqt.yaqs.core.data_structures.noise_model import NoiseModel\n",
    "from mqt.yaqs.core.data_structures.simulation_parameters import Observable, PhysicsSimParams\n",
    "from mqt.yaqs.core.libraries.gate_library import X"
   ]
  },
  {
   "cell_type": "markdown",
   "id": "fda5afa4",
   "metadata": {},
   "source": [
    "# General system parameters"
   ]
  },
  {
   "cell_type": "code",
   "execution_count": null,
   "id": "f7e7392c",
   "metadata": {},
   "outputs": [],
   "source": [
    "# Define the system Hamiltonian\n",
    "L = 10\n",
    "J = 1\n",
    "g = 0.5\n",
    "H_0 = MPO()\n",
    "H_0.init_ising(L, J, g)\n",
    "\n",
    "# Define the initial state\n",
    "state = MPS(L, state=\"zeros\")\n",
    "\n",
    "# Define the noise model\n",
    "gamma_relaxation = 0.1\n",
    "gamma_dephasing = 0.1\n",
    "noise_model = NoiseModel([\"relaxation\", \"dephasing\"], [gamma_relaxation, gamma_dephasing])\n",
    "\n",
    "# Define the simulation parameters\n",
    "T = 1\n",
    "sample_timesteps = False\n",
    "N = 10001\n",
    "threshold = 0\n",
    "max_bond_dim = 2**L"
   ]
  },
  {
   "cell_type": "markdown",
   "id": "11fb52d9",
   "metadata": {},
   "source": [
    "# Generate individual TJM curves"
   ]
  },
  {
   "cell_type": "code",
   "execution_count": null,
   "id": "4ce27c13",
   "metadata": {},
   "outputs": [],
   "source": [
    "dt = 0.1\n",
    "order = 2\n",
    "measurements = [Observable(X(), site) for site in range(L)]\n",
    "sim_params = PhysicsSimParams(measurements, T, dt, N, max_bond_dim, threshold, order, sample_timesteps=sample_timesteps)\n",
    "simulator.run(state, H_0, sim_params, noise_model)\n",
    "filename = \"TJM_Convergence_order2_dt01.pickle\"\n",
    "with open(filename, \"wb\") as f:\n",
    "    pickle.dump(\n",
    "        {\n",
    "            \"sim_params\": sim_params,\n",
    "        },\n",
    "        f,\n",
    "    )\n",
    "\n",
    "dt = 0.2\n",
    "order = 2\n",
    "measurements = [Observable(X(), site) for site in range(L)]\n",
    "sim_params = PhysicsSimParams(measurements, T, dt, N, max_bond_dim, threshold, order, sample_timesteps=sample_timesteps)\n",
    "simulator.run(state, H_0, sim_params, noise_model)\n",
    "filename = \"TJM_Convergence_order2_dt02.pickle\"\n",
    "with open(filename, \"wb\") as f:\n",
    "    pickle.dump(\n",
    "        {\n",
    "            \"sim_params\": sim_params,\n",
    "        },\n",
    "        f,\n",
    "    )\n",
    "\n",
    "dt = 0.5\n",
    "order = 2\n",
    "measurements = [Observable(X(), site) for site in range(L)]\n",
    "sim_params = PhysicsSimParams(measurements, T, dt, N, max_bond_dim, threshold, order, sample_timesteps=sample_timesteps)\n",
    "simulator.run(state, H_0, sim_params, noise_model)\n",
    "filename = \"TJM_Convergence_order2_dt05.pickle\"\n",
    "with open(filename, \"wb\") as f:\n",
    "    pickle.dump(\n",
    "        {\n",
    "            \"sim_params\": sim_params,\n",
    "        },\n",
    "        f,\n",
    "    )\n",
    "\n",
    "dt = 0.1\n",
    "order = 1\n",
    "measurements = [Observable(X(), site) for site in range(L)]\n",
    "sim_params = PhysicsSimParams(measurements, T, dt, N, max_bond_dim, threshold, order, sample_timesteps=sample_timesteps)\n",
    "simulator.run(state, H_0, sim_params, noise_model)\n",
    "filename = \"TJM_Convergence_order1_dt01.pickle\"\n",
    "with open(filename, \"wb\") as f:\n",
    "    pickle.dump(\n",
    "        {\n",
    "            \"sim_params\": sim_params,\n",
    "        },\n",
    "        f,\n",
    "    )\n",
    "\n",
    "dt = 0.2\n",
    "order = 1\n",
    "measurements = [Observable(X(), site) for site in range(L)]\n",
    "sim_params = PhysicsSimParams(measurements, T, dt, N, max_bond_dim, threshold, order, sample_timesteps=sample_timesteps)\n",
    "simulator.run(state, H_0, sim_params, noise_model)\n",
    "filename = \"TJM_Convergence_order1_dt02.pickle\"\n",
    "with open(filename, \"wb\") as f:\n",
    "    pickle.dump(\n",
    "        {\n",
    "            \"sim_params\": sim_params,\n",
    "        },\n",
    "        f,\n",
    "    )\n",
    "\n",
    "dt = 0.5\n",
    "order = 1\n",
    "measurements = [Observable(X(), site) for site in range(L)]\n",
    "sim_params = PhysicsSimParams(measurements, T, dt, N, max_bond_dim, threshold, order, sample_timesteps=sample_timesteps)\n",
    "simulator.run(state, H_0, sim_params, noise_model)\n",
    "filename = \"TJM_Convergence_order1_dt05.pickle\"\n",
    "with open(filename, \"wb\") as f:\n",
    "    pickle.dump(\n",
    "        {\n",
    "            \"sim_params\": sim_params,\n",
    "        },\n",
    "        f,\n",
    "    )"
   ]
  },
  {
   "cell_type": "markdown",
   "id": "3cf4428f",
   "metadata": {},
   "source": [
    "# Generate QuTip reference data"
   ]
  },
  {
   "cell_type": "code",
   "execution_count": null,
   "id": "e0054d4a",
   "metadata": {},
   "outputs": [],
   "source": [
    "# Time vector\n",
    "t = np.arrange(0, sim_params.elapsed_time + sim_params.dt, 0.1)\n",
    "\n",
    "# Define Pauli matrices\n",
    "sx = qt.sigmax()\n",
    "sy = qt.sigmay()\n",
    "sz = qt.sigmaz()\n",
    "\n",
    "# Construct the Ising Hamiltonian\n",
    "H = 0\n",
    "for i in range(L - 1):\n",
    "    H += J * qt.tensor([sz if n == i or n == i + 1 else qt.qeye(2) for n in range(L)])\n",
    "for i in range(L):\n",
    "    H += g * qt.tensor([sx if n == i else qt.qeye(2) for n in range(L)])\n",
    "\n",
    "# Construct collapse operators\n",
    "\n",
    "# Dephasing operators\n",
    "c_ops = [np.sqrt(gamma_dephasing) * qt.tensor([sz if n == i else qt.qeye(2) for n in range(L)]) for i in range(L)]\n",
    "\n",
    "# Relaxation operators\n",
    "c_ops.extend(\n",
    "    np.sqrt(gamma_relaxation) * qt.tensor([qt.destroy(2) if n == i else qt.qeye(2) for n in range(L)]) for i in range(L)\n",
    ")\n",
    "\n",
    "# Initial state\n",
    "psi0 = qt.tensor([qt.basis(2, 0) for _ in range(L)])\n",
    "\n",
    "# Define measurement operators\n",
    "sx_list = [qt.tensor([sx if n == i else qt.qeye(2) for n in range(L)]) for i in range(L)]\n",
    "\n",
    "# Exact Lindblad solution\n",
    "result_lindblad = qt.mesolve(H, psi0, t, c_ops, sx_list, progress_bar=True)\n",
    "filename = \"QuTip_exact_convergence.pickle\"\n",
    "with open(filename, \"wb\") as f:\n",
    "    pickle.dump(\n",
    "        {\n",
    "            \"sim_params\": sim_params,\n",
    "            \"observables\": result_lindblad.expect,\n",
    "        },\n",
    "        f,\n",
    "    )"
   ]
  },
  {
   "cell_type": "markdown",
   "id": "6e7cb177",
   "metadata": {},
   "source": [
    "# Plot data"
   ]
  },
  {
   "cell_type": "code",
   "execution_count": 1,
   "id": "199ab1ac",
   "metadata": {},
   "outputs": [
    {
     "data": {
      "image/png": "[encoded data removed]",
      "text/plain": [
       "<Figure size 350x300 with 1 Axes>"
      ]
     },
     "metadata": {},
     "output_type": "display_data"
    }
   ],
   "source": [
    "from plotter_convergence_single_plot import plot_convergence_data\n",
    "\n",
    "plot_convergence_data()"
   ]
  },
  {
   "cell_type": "code",
   "execution_count": null,
   "id": "170e12ec",
   "metadata": {},
   "outputs": [],
   "source": []
  }
 ],
 "metadata": {
  "kernelspec": {
   "display_name": "venv",
   "language": "python",
   "name": "python3"
  },
  "language_info": {
   "codemirror_mode": {
    "name": "ipython",
    "version": 3
   },
   "file_extension": ".py",
   "mimetype": "text/x-python",
   "name": "python",
   "nbconvert_exporter": "python",
   "pygments_lexer": "ipython3",
   "version": "3.13.2"
  }
 },
 "nbformat": 4,
 "nbformat_minor": 5
}
