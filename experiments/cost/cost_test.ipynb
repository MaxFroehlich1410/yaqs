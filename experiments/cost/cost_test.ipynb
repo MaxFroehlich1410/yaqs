{
 "cells": [
  {
   "cell_type": "code",
   "execution_count": 1,
   "id": "72e0598d",
   "metadata": {},
   "outputs": [],
   "source": [
    "from mqt.yaqs.core.data_structures.networks import MPS, MPO\n",
    "from mqt.yaqs import simulator\n",
    "from mqt.yaqs.core.data_structures.simulation_parameters import AnalogSimParams, Observable\n",
    "from mqt.yaqs.core.libraries.gate_library import X, Z, RuntimeCost\n",
    "from mqt.yaqs.core.data_structures.noise_model import NoiseModel\n",
    "\n",
    "import matplotlib.pyplot as plt\n",
    "import numpy as np\n",
    "import pickle"
   ]
  },
  {
   "cell_type": "code",
   "execution_count": null,
   "id": "db617c9f",
   "metadata": {},
   "outputs": [],
   "source": [
    "def tdvp_simulator(H_0, noise_model, state=None):\n",
    "    L = H_0.length\n",
    "    num_traj = 100\n",
    "    max_bond_dim = 2**L\n",
    "    min_bond_dim = 2\n",
    "    threshold = 1e-6\n",
    "    sample_timesteps = True\n",
    "    order = 2\n",
    "\n",
    "    elapsed_time = 10\n",
    "    dt = 0.1\n",
    "\n",
    "    state = MPS(length=L)\n",
    "\n",
    "    results = {}\n",
    "    # for j in range(int(elapsed_time / dt)):\n",
    "    # time = dt\n",
    "\n",
    "    measurements = [Observable(X(), site) for site in range(L)] + [Observable(\"runtime_cost\")]\n",
    "    sim_params = AnalogSimParams(measurements, elapsed_time, dt, num_traj, max_bond_dim, min_bond_dim, threshold, order, sample_timesteps=sample_timesteps)\n",
    "\n",
    "    simulator.run(state, H_0, sim_params, noise_model=noise_model)\n",
    "\n",
    "    exp_val = sim_params.observables\n",
    "    results = {'exp_vals': exp_val}\n",
    "    return results"
   ]
  },
  {
   "cell_type": "code",
   "execution_count": null,
   "id": "3809d24f",
   "metadata": {},
   "outputs": [],
   "source": [
    "L = 16\n",
    "state = MPS(length=L, state=\"zeros\")\n",
    "J = 1\n",
    "h = 1\n",
    "H_0 = MPO()\n",
    "H_0.init_ising(L, J, h)\n",
    "\n",
    "# measurements = [Observable(X(), site) for site in range(L)]\n",
    "\n",
    "gammas = [0, 1e-3, 1e-1]\n",
    "totals = []\n",
    "for j, gamma in enumerate(gammas):\n",
    "    # Define the noise model\n",
    "    noise_model = NoiseModel([\n",
    "        {\"name\": name, \"sites\": [i], \"strength\": gamma} for i in range(L) for name in [\"dephasing\", \"bitflip\", \"bitphaseflip\"]\n",
    "        ])\n",
    "\n",
    "    results = tdvp_simulator(H_0, noise_model)\n",
    "    filename = f\"results_gamma_{j}.pickle\"\n",
    "    with open(filename, 'wb') as handle:\n",
    "        pickle.dump(results, handle)"
   ]
  },
  {
   "cell_type": "code",
   "execution_count": null,
   "id": "bb0cf44f",
   "metadata": {},
   "outputs": [],
   "source": [
    "filename = \"results_gamma_0.pickle\"\n",
    "with open(filename, 'rb') as f:\n",
    "    results = pickle.load(f)"
   ]
  },
  {
   "cell_type": "code",
   "execution_count": null,
   "id": "26383e47",
   "metadata": {},
   "outputs": [
    {
     "data": {
      "image/png": "[encoded data removed]",
      "text/plain": [
       "<Figure size 640x480 with 1 Axes>"
      ]
     },
     "metadata": {},
     "output_type": "display_data"
    }
   ],
   "source": [
    "heatmap = [observable.results for observable in results['exp_vals'][0::-2]]\n",
    "\n",
    "fig, ax = plt.subplots(1, 1)\n",
    "im = plt.imshow(heatmap, aspect=\"auto\", extent=(0, 9.9, L, 0))"
   ]
  },
  {
   "cell_type": "code",
   "execution_count": null,
   "id": "a1fb8d0f",
   "metadata": {},
   "outputs": [
    {
     "data": {
      "text/plain": [
       "[<matplotlib.lines.Line2D at 0x1acadc24f50>]"
      ]
     },
     "execution_count": 6,
     "metadata": {},
     "output_type": "execute_result"
    },
    {
     "data": {
      "image/png": "[encoded data removed]",
      "text/plain": [
       "<Figure size 640x480 with 1 Axes>"
      ]
     },
     "metadata": {},
     "output_type": "display_data"
    }
   ],
   "source": [
    "filename = \"results_gamma_0.pickle\"\n",
    "with open(filename, 'rb') as f:\n",
    "    results = pickle.load(f)\n",
    "plt.plot(results['exp_vals'][-1].results)\n",
    "\n",
    "filename = \"results_gamma_1.pickle\"\n",
    "with open(filename, 'rb') as f:\n",
    "    results = pickle.load(f)\n",
    "plt.plot(results['exp_vals'][-1].results)\n",
    "\n",
    "filename = \"results_gamma_2.pickle\"\n",
    "with open(filename, 'rb') as f:\n",
    "    results = pickle.load(f)\n",
    "plt.plot(results['exp_vals'][-1].results)"
   ]
  },
  {
   "cell_type": "code",
   "execution_count": null,
   "id": "20aaa9bd",
   "metadata": {},
   "outputs": [],
   "source": []
  },
  {
   "cell_type": "code",
   "execution_count": null,
   "id": "35b12481",
   "metadata": {},
   "outputs": [],
   "source": []
  }
 ],
 "metadata": {
  "kernelspec": {
   "display_name": "env",
   "language": "python",
   "name": "python3"
  },
  "language_info": {
   "codemirror_mode": {
    "name": "ipython",
    "version": 3
   },
   "file_extension": ".py",
   "mimetype": "text/x-python",
   "name": "python",
   "nbconvert_exporter": "python",
   "pygments_lexer": "ipython3",
   "version": "3.13.0"
  }
 },
 "nbformat": 4,
 "nbformat_minor": 5
}
